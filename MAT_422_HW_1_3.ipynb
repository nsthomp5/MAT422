{
  "nbformat": 4,
  "nbformat_minor": 0,
  "metadata": {
    "colab": {
      "provenance": [],
      "authorship_tag": "ABX9TyPAyhbxr2Lm2dHBFh3OePIK",
      "include_colab_link": true
    },
    "kernelspec": {
      "name": "python3",
      "display_name": "Python 3"
    },
    "language_info": {
      "name": "python"
    }
  },
  "cells": [
    {
      "cell_type": "markdown",
      "metadata": {
        "id": "view-in-github",
        "colab_type": "text"
      },
      "source": [
        "<a href=\"https://colab.research.google.com/github/nsthomp5/MAT422/blob/main/MAT_422_HW_1_3.ipynb\" target=\"_parent\"><img src=\"https://colab.research.google.com/assets/colab-badge.svg\" alt=\"Open In Colab\"/></a>"
      ]
    },
    {
      "cell_type": "code",
      "execution_count": 55,
      "metadata": {
        "id": "qRucPt67Y78e"
      },
      "outputs": [],
      "source": [
        "# Name: Nicholas Thompson\n",
        "# ID: 1223100502\n",
        "# Class: MAT 422\n",
        "# Assignment: HW 1.3"
      ]
    },
    {
      "cell_type": "code",
      "source": [
        "import numpy as np\n",
        "import math\n",
        "from numpy import linalg"
      ],
      "metadata": {
        "id": "hjvnPIDRxHvv"
      },
      "execution_count": 56,
      "outputs": []
    },
    {
      "cell_type": "markdown",
      "source": [
        "QR Decomposition factorizes a matrix into two using norms and projections, forming each matrix as an array of vectors. The following program improves upon my HW 1.2 by taking input entries of vectors of any amount and uniform size. My Gram-Schmidt process returns an error, however."
      ],
      "metadata": {
        "id": "uztxFNtSPXlX"
      }
    },
    {
      "cell_type": "code",
      "source": [
        "#1.3.1 QR Decomposition\n",
        "#Example 1\n",
        "\n",
        "def proj_vec(u,v): # function for producing projection of one vector onto another\n",
        "  for i in range(len(u)):\n",
        "    u[i] = (np.dot(u,v)/np.dot(u,u))*u[i]\n",
        "  return u\n",
        "\n",
        "def gram_schmidt(u): # function for gram-schmidt process\n",
        "  count = 1\n",
        "  for i in range(len(u[0])):\n",
        "    for j in range (count):\n",
        "      if j == 0:\n",
        "        u[:,i] = u[:,i]\n",
        "      else:\n",
        "        u[:,i] = u[:,i] - proj_vec(u[:,j],u[:,i])\n",
        "    count+=1\n",
        "  return u"
      ],
      "metadata": {
        "id": "nxaw3Saae64W"
      },
      "execution_count": 82,
      "outputs": []
    },
    {
      "cell_type": "code",
      "source": [
        "vec_dim = int(input(\"Choose a column vector size: \")) # user inputs\n",
        "vec_num = int(input(\"Choose a number of vectors to enter: \"))\n",
        "A = np.zeros((vec_dim, vec_num)) # forms array of vectors as a matrix\n",
        "\n",
        "for i in range(vec_num):\n",
        "  for j in range (vec_dim):\n",
        "    A[j,i] = float(input(\"Enter an element of vector number \" + str(i+1) + \": \")) # user-input matrix entries\n",
        "\n",
        "Q = gram_schmidt(A)\n",
        "for i in range (vec_num): # rescaling Q to unit vectors (I get errors here too)\n",
        "  for j in range (vec_dim):\n",
        "    Q[j,i] = Q[j,i]/np.linalg.norm(Q[:,i])\n",
        "\n",
        "R = np.zeros((len(Q[0]),len(Q[0]))) # upper triangular matrix R\n",
        "for i in range(len(Q[0])):\n",
        "  for j in range(i,len(Q[0])):\n",
        "    if i >= j:\n",
        "      R[i,j] = np.dot(Q[:,i],A[:,j])\n",
        "    else:\n",
        "      R[i,j] = 0\n",
        "\n",
        "print(\"Q = \\n\", Q)\n",
        "print(\"R = \\n\", R)"
      ],
      "metadata": {
        "colab": {
          "base_uri": "https://localhost:8080/"
        },
        "id": "lMriigR3pz8p",
        "outputId": "455a7a3e-4bd4-4bd8-cc42-7ca6ea201f18"
      },
      "execution_count": 84,
      "outputs": [
        {
          "output_type": "stream",
          "name": "stdout",
          "text": [
            "Choose a column vector size: 2\n",
            "Choose a number of vectors to enter: 3\n",
            "Enter an element of vector number 1: 2\n",
            "Enter an element of vector number 1: 4\n",
            "Enter an element of vector number 2: 3\n",
            "Enter an element of vector number 2: 5\n",
            "Enter an element of vector number 3: 1\n",
            "Enter an element of vector number 3: 6\n",
            "Q = \n",
            " [[0.4472136         nan        nan]\n",
            " [0.99380799        nan        nan]]\n",
            "R = \n",
            " [[1.18765432 0.         0.        ]\n",
            " [0.                nan 0.        ]\n",
            " [0.         0.                nan]]\n"
          ]
        },
        {
          "output_type": "stream",
          "name": "stderr",
          "text": [
            "<ipython-input-82-ca68c564b9d6>:6: RuntimeWarning: invalid value encountered in scalar divide\n",
            "  u[i] = (np.dot(u,v)/np.dot(u,u))*u[i]\n"
          ]
        }
      ]
    },
    {
      "cell_type": "markdown",
      "source": [
        "Least-squares problems have to do with approximating solutions by minimizing the sum of squares. In the context of linear algebra, this is done by minimizing the sum of the squared entries of b-Ax, done by manipulating the vector x, where A is a matrix and b is a vector."
      ],
      "metadata": {
        "id": "0uq4EwdlZq9m"
      }
    },
    {
      "cell_type": "code",
      "source": [
        "#1.3.2 Least Squares\n",
        "#Example 1\n",
        "\n",
        "A = [[1,2,3],[3,5,7],[2,4,5]]\n",
        "b = [[3],[5],[3]]\n",
        "\n",
        "np.linalg.lstsq(A,b,rcond=None) # Returns x for Ax=b"
      ],
      "metadata": {
        "colab": {
          "base_uri": "https://localhost:8080/"
        },
        "id": "UpSSfXHOUPO8",
        "outputId": "26bd66e0-99d4-4d5f-b902-52d35c68007b"
      },
      "execution_count": 99,
      "outputs": [
        {
          "output_type": "execute_result",
          "data": {
            "text/plain": [
              "(array([[-2.],\n",
              "        [-2.],\n",
              "        [ 3.]]),\n",
              " array([], dtype=float64),\n",
              " 3,\n",
              " array([11.90897874,  0.3388389 ,  0.24781764]))"
            ]
          },
          "metadata": {},
          "execution_count": 99
        }
      ]
    },
    {
      "cell_type": "code",
      "source": [
        "#Example 2\n",
        "\n",
        "A = [[3,1,4,2],[5,2,3,9],[10,1,5,11],[30,2,8,12]]\n",
        "b = [[3],[5],[3],[4]]\n",
        "\n",
        "np.linalg.lstsq(A,b,rcond=None) # Returns x for Ax=b"
      ],
      "metadata": {
        "colab": {
          "base_uri": "https://localhost:8080/"
        },
        "id": "9zYli-JyZooE",
        "outputId": "119bb760-1cac-4575-de74-fd1b325e3dd6"
      },
      "execution_count": 98,
      "outputs": [
        {
          "output_type": "execute_result",
          "data": {
            "text/plain": [
              "(array([[-0.09913793],\n",
              "        [ 2.13362069],\n",
              "        [ 0.26724138],\n",
              "        [ 0.04741379]]),\n",
              " array([], dtype=float64),\n",
              " 4,\n",
              " array([37.76587205,  8.51855608,  2.85525177,  1.01027141]))"
            ]
          },
          "metadata": {},
          "execution_count": 98
        }
      ]
    },
    {
      "cell_type": "markdown",
      "source": [
        "Linear regression uses least-squares methods as well. Linear regression involves finding the optimal coefficients for a linear function to find the line of best fit for a linear relationship between known inputs and outputs. It does this by minimizing the sum of squares of the differences between the output predicted by the line of best fit and the actual output."
      ],
      "metadata": {
        "id": "tYnEBrsKbuAU"
      }
    },
    {
      "cell_type": "code",
      "source": [
        "#1.3.3 Linear Regression\n",
        "#Example 1: Dot Product\n",
        "\n",
        "from sklearn.linear_model import LinearRegression\n",
        "import matplotlib.pyplot as plt\n",
        "\n",
        "\n",
        "X = np.array([[1,2,3],[2,1,1],[1,4,6],[2,4,1]])\n",
        "y = np.dot(X,np.array([1,5,2])) # 1, 5, 2 are feature coefficients\n",
        "\n",
        "print(reg.score(X,y)) # R^2\n",
        "\n",
        "reg = LinearRegression().fit(X,y) # Optimizes coefficients\n",
        "\n",
        "reg.predict([[1,2,5]]) # Uses optimized coefficients to produce output\n",
        "\n"
      ],
      "metadata": {
        "colab": {
          "base_uri": "https://localhost:8080/"
        },
        "id": "5DhKQIUrdX3G",
        "outputId": "efe2e472-0254-44fd-88e3-543195c36522"
      },
      "execution_count": 110,
      "outputs": [
        {
          "output_type": "stream",
          "name": "stdout",
          "text": [
            "0.9128697042366105\n"
          ]
        },
        {
          "output_type": "execute_result",
          "data": {
            "text/plain": [
              "array([21.])"
            ]
          },
          "metadata": {},
          "execution_count": 110
        }
      ]
    },
    {
      "cell_type": "code",
      "source": [
        "#Example 2: Worse Fit\n",
        "\n",
        "y = [18,7,29,21.5] # Outputs slightly off from dot product\n",
        "\n",
        "print(reg.score(X,y))\n",
        "\n",
        "reg = LinearRegression().fit(X,y)\n",
        "\n",
        "reg.predict([[1,2,5]])"
      ],
      "metadata": {
        "colab": {
          "base_uri": "https://localhost:8080/"
        },
        "id": "JGW7WItzf4O0",
        "outputId": "8d01fd70-0f38-479d-eb3d-c9b7c86163e3"
      },
      "execution_count": 111,
      "outputs": [
        {
          "output_type": "stream",
          "name": "stdout",
          "text": [
            "0.8915153023140086\n"
          ]
        },
        {
          "output_type": "execute_result",
          "data": {
            "text/plain": [
              "array([18.88888889])"
            ]
          },
          "metadata": {},
          "execution_count": 111
        }
      ]
    },
    {
      "cell_type": "code",
      "source": [
        "#Example 3: Terrible Fit\n",
        "\n",
        "y = [50,100,0,3] # Outputs not even close dot\n",
        "\n",
        "print(reg.score(X,y))\n",
        "\n",
        "reg = LinearRegression().fit(X,y)\n",
        "\n",
        "reg.predict([[1,2,5]])"
      ],
      "metadata": {
        "colab": {
          "base_uri": "https://localhost:8080/"
        },
        "id": "RVt2zQXggUyz",
        "outputId": "9c2d45a2-bd6d-4cf7-ab5b-559e5b87712a"
      },
      "execution_count": 112,
      "outputs": [
        {
          "output_type": "stream",
          "name": "stdout",
          "text": [
            "-0.6308634093213654\n"
          ]
        },
        {
          "output_type": "execute_result",
          "data": {
            "text/plain": [
              "array([59.77777778])"
            ]
          },
          "metadata": {},
          "execution_count": 112
        }
      ]
    }
  ]
}