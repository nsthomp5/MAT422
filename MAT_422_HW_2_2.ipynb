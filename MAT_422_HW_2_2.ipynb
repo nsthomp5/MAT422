{
  "nbformat": 4,
  "nbformat_minor": 0,
  "metadata": {
    "colab": {
      "provenance": [],
      "authorship_tag": "ABX9TyNsnaph+hzD459xvhjeXOj+",
      "include_colab_link": true
    },
    "kernelspec": {
      "name": "python3",
      "display_name": "Python 3"
    },
    "language_info": {
      "name": "python"
    }
  },
  "cells": [
    {
      "cell_type": "markdown",
      "metadata": {
        "id": "view-in-github",
        "colab_type": "text"
      },
      "source": [
        "<a href=\"https://colab.research.google.com/github/nsthomp5/MAT422/blob/main/MAT_422_HW_2_2.ipynb\" target=\"_parent\"><img src=\"https://colab.research.google.com/assets/colab-badge.svg\" alt=\"Open In Colab\"/></a>"
      ]
    },
    {
      "cell_type": "code",
      "execution_count": null,
      "metadata": {
        "id": "M97M9pn__Wwt"
      },
      "outputs": [],
      "source": [
        "# Name: Nicholas Thompson\n",
        "# ID: 1223100502\n",
        "# Class: MAT 422\n",
        "# Assignment: HW 2.2"
      ]
    },
    {
      "cell_type": "code",
      "source": [
        "import random\n",
        "import numpy as np\n",
        "import matplotlib.pyplot as plt\n",
        "import scipy.integrate"
      ],
      "metadata": {
        "id": "e7Gm4aBsBCQ9"
      },
      "execution_count": 51,
      "outputs": []
    },
    {
      "cell_type": "markdown",
      "source": [
        "The probability axioms define a sample space as the set of all possible outcomes of an experiment. This example shows how the sample space of drawing a random card from a standard deck has 52 events, with each card's individual rank and suit being a complex event. It can be considered a complex event because the two characteristics of the card have their own probabilities of being drawn, but this logic may be more applicable to some card games that focus on ranks and suits individually more than others that just treat each of the 52 cards as their particular combination of rank and suit.\n",
        "\n",
        "Other axioms describe that the union of two events in probability is the sum of the probability of each occuring, subtracting the probability of both occuring due to double-counting, and that the probability of an event not happening is 1 subtracting the probability of the event happening."
      ],
      "metadata": {
        "id": "rnfHVqDak_lm"
      }
    },
    {
      "cell_type": "code",
      "source": [
        "# 2.2.1: Probability Axioms\n",
        "# Example 1: Sample Space and Complex Events\n",
        "\n",
        "ranks = ['Ace', '2', '3', '4', '5', '6', '7', '8', '9', '10', 'Jack', 'Queen', 'King']\n",
        "suits = ['Clubs', 'Diamonds', 'Hearts', 'Spades']\n",
        "\n",
        "deck = []\n",
        "for rank in ranks:\n",
        "    for suit in suits:\n",
        "        deck.append(rank + ' of ' + suit)\n",
        "\n",
        "draw = random.choice(deck)\n",
        "print(\"You drew a \" + draw + \".\")\n",
        "\n",
        "print(\"The sample space has \" + str(len(deck)) + \" events.\")"
      ],
      "metadata": {
        "colab": {
          "base_uri": "https://localhost:8080/"
        },
        "id": "suZbCR5W0Rt0",
        "outputId": "ae988ef9-6ce0-4fd9-f147-29b651fd3f1a"
      },
      "execution_count": 22,
      "outputs": [
        {
          "output_type": "stream",
          "name": "stdout",
          "text": [
            "You drew a 5 of Spades.\n",
            "The sample space has 52 events.\n"
          ]
        }
      ]
    },
    {
      "cell_type": "code",
      "source": [
        "# Example 2: Probability Distribution\n",
        "\n",
        "aocprob = 0\n",
        "dprob = 0\n",
        "horqprob = 0\n",
        "cprob = 0\n",
        "\n",
        "for i in range(len(deck)):\n",
        "    aocprob += deck[i].count('Ace of Clubs') / len(deck)\n",
        "    dprob += deck[i].count('Diamonds') / len(deck)\n",
        "    horqprob += (deck[i].count('Hearts') + deck[i].count('Queen') - deck[i].count('Queen of Hearts')) / len(deck)\n",
        "    cprob += deck[i].count('Clubs') / len(deck)\n",
        "\n",
        "\n",
        "print(\"The probability of drawing an ace of clubs is \" + str(aocprob) + \".\")\n",
        "print(\"The probability of drawing a diamond is \" + str(dprob) + \".\")\n",
        "print(\"The probability of drawing a heart or a queen is \" + str(horqprob) + \".\")\n",
        "print(\"The probability of not drawing a club is \" + str(1-cprob) + \".\")\n",
        "\n",
        "\n"
      ],
      "metadata": {
        "colab": {
          "base_uri": "https://localhost:8080/"
        },
        "id": "B8YLlTP5FmcH",
        "outputId": "80f4403f-cb90-43cc-8aea-bed485a735cf"
      },
      "execution_count": 28,
      "outputs": [
        {
          "output_type": "stream",
          "name": "stdout",
          "text": [
            "The probability of drawing an ace of clubs is 0.019230769230769232.\n",
            "The probability of drawing a diamond is 0.24999999999999994.\n",
            "The probability of drawing a heart or a queen is 0.3076923076923076.\n",
            "The probability of not drawing a club is 0.75.\n"
          ]
        }
      ]
    },
    {
      "cell_type": "markdown",
      "source": [
        "Conditional probability describes the probability of an event happening given another event happens. This example shows how in baseball, the type of pitch thrown changes the probability of throwing a strike on that particular pitch, so different strike and ball probabilities are calculated with this in mind, rather than assuming the pitch choice and outcome are independent events."
      ],
      "metadata": {
        "id": "dnrWjJJEl39h"
      }
    },
    {
      "cell_type": "code",
      "source": [
        "# 2.2.2: Conditional Probability\n",
        "# Example 1\n",
        "\n",
        "ffprob = .5\n",
        "slprob = .3\n",
        "chprob = .1\n",
        "cuprob = .1\n",
        "pitchprob = 0\n",
        "\n",
        "strikeprob = 0\n",
        "ballprob = 0\n",
        "\n",
        "randnum = random.randint(1,100)\n",
        "\n",
        "if randnum <= ffprob*100:\n",
        "  pitch = 'fastball'\n",
        "  pitchprob = ffprob\n",
        "if randnum <= (ffprob+slprob)*100 and randnum > ffprob*100:\n",
        "  pitch = 'slider'\n",
        "  pitchprob = slprob\n",
        "if randnum <= (ffprob+slprob+chprob)*100 and randnum > (ffprob+slprob)*100:\n",
        "  pitch = 'changeup'\n",
        "  pitchprob = chprob\n",
        "if randnum <= (ffprob+slprob+chprob+cuprob)*100 and randnum > (ffprob+slprob+chprob)*100:\n",
        "  pitch = 'curve'\n",
        "  pitchprob = cuprob\n",
        "\n",
        "if pitch == 'fastball':\n",
        "  strikeprob = .75\n",
        "if pitch == 'slider':\n",
        "  strikeprob = .6\n",
        "if pitch == 'changeup':\n",
        "  strikeprob = .55\n",
        "if pitch == 'curve':\n",
        "  strikeprob = .45\n",
        "\n",
        "randnum = random.randint(1,100)\n",
        "\n",
        "if randnum <= strikeprob*100:\n",
        "  result = 'strike'\n",
        "  pitchprob = pitchprob * strikeprob\n",
        "if randnum > strikeprob*100:\n",
        "  result = 'ball'\n",
        "  pitchprob = pitchprob * (1-strikeprob)\n",
        "\n",
        "genstrikeprob = .5*.75+.3*.6+.1*.55+.1*.45\n",
        "genballprob = 1-genstrikeprob\n",
        "\n",
        "print(\"The probability of throwing a strike is \" + str(genstrikeprob) + \".\")\n",
        "print(\"The probability of throwing a strike given you threw a fastball is \" + str(.75) + \".\")\n",
        "\n",
        "print(\"You threw a \" + pitch + \" for a \" + result + \" with pitch+outcome probability \" + str(pitchprob)  + \".\")"
      ],
      "metadata": {
        "colab": {
          "base_uri": "https://localhost:8080/"
        },
        "id": "8KU-baKSObPp",
        "outputId": "c7c98d99-5b6b-4d8c-cc71-a6839230e4d0"
      },
      "execution_count": 75,
      "outputs": [
        {
          "output_type": "stream",
          "name": "stdout",
          "text": [
            "The probability of throwing a strike is 0.655.\n",
            "The probability of throwing a strike given you threw a fastball is 0.75.\n",
            "You threw a slider for a ball with probability 0.12.\n"
          ]
        }
      ]
    },
    {
      "cell_type": "markdown",
      "source": [
        "A discrete random variable is a random variable with a finite, countable number of outcomes. The example presented picks numbers randomly from a list. The expected value of a discrete random variable is simply the sum of the probabilities of each number multiplied by the number itself. It represents the weighted mean of all possible outcomes. Covariance refers to the variance between two variables with the same probability distribution: being that the events possible in each variable have the same probabilities, even if the events themselves are different. This example shows doing it both manually and through a Python package."
      ],
      "metadata": {
        "id": "m95lh5eHnrNX"
      }
    },
    {
      "cell_type": "code",
      "source": [
        "# 2.2.3: Discrete Random Variables\n",
        "# Example 1: Expected Value\n",
        "\n",
        "numlist = [1,2]\n",
        "\n",
        "exp_val = np.mean(numlist)\n",
        "\n",
        "print(\"The expected value of the list is \" + str(exp_val) + \".\")"
      ],
      "metadata": {
        "colab": {
          "base_uri": "https://localhost:8080/"
        },
        "id": "1C1BC_k8REri",
        "outputId": "5f793076-8528-4821-c10e-7312483a77b9"
      },
      "execution_count": 69,
      "outputs": [
        {
          "output_type": "stream",
          "name": "stdout",
          "text": [
            "The expected value of the list is 1.5.\n"
          ]
        }
      ]
    },
    {
      "cell_type": "code",
      "source": [
        "prob1 = .4\n",
        "prob2 = .6\n",
        "\n",
        "\n",
        "exp_val = (numlist[0]*prob1) + (numlist[1]*prob2)\n",
        "\n",
        "print(\"The expected value of the number is \" + str(exp_val) + \".\")"
      ],
      "metadata": {
        "colab": {
          "base_uri": "https://localhost:8080/"
        },
        "id": "2wwnIlFzVk9T",
        "outputId": "ecaacc7c-e1d6-4b07-d1b4-8d788556545c"
      },
      "execution_count": 70,
      "outputs": [
        {
          "output_type": "stream",
          "name": "stdout",
          "text": [
            "The expected value of the number is 1.6.\n"
          ]
        }
      ]
    },
    {
      "cell_type": "code",
      "source": [
        "# Example 2: Covariance\n",
        "\n",
        "numlist2 = [3, 9]\n",
        "\n",
        "\n",
        "\n",
        "\n",
        "exp_val2 = (numlist2[0]*prob1) + (numlist2[1]*prob2)\n",
        "\n",
        "cov = prob1*(numlist[0]-exp_val)*(numlist2[0]-exp_val2) + prob2*(numlist[1]-exp_val)*(numlist2[1]-exp_val2)\n",
        "\n",
        "print(\"The covariance of the list is \" + str(cov) + \".\")\n",
        "\n"
      ],
      "metadata": {
        "colab": {
          "base_uri": "https://localhost:8080/"
        },
        "id": "aPPNKXJmiJTa",
        "outputId": "655dd273-ac14-4803-cbc7-734ffacfff47"
      },
      "execution_count": 71,
      "outputs": [
        {
          "output_type": "stream",
          "name": "stdout",
          "text": [
            "The covariance of the list is 1.44.\n"
          ]
        }
      ]
    },
    {
      "cell_type": "code",
      "source": [
        "# Example 3: Covariance\n",
        "\n",
        "weights = [4,6]\n",
        "\n",
        "cov = np.cov(numlist, numlist2, weights)\n",
        "\n",
        "print(\"The covariance matrix of the list is \" + str(cov) + \".\")"
      ],
      "metadata": {
        "colab": {
          "base_uri": "https://localhost:8080/"
        },
        "id": "IgzRGEaxj-90",
        "outputId": "3e52720a-7d2b-425a-febf-fedea532c57b"
      },
      "execution_count": 72,
      "outputs": [
        {
          "output_type": "stream",
          "name": "stdout",
          "text": [
            "The covariance matrix of the list is [[ 0.5  3. ]\n",
            " [ 3.  18. ]].\n"
          ]
        }
      ]
    },
    {
      "cell_type": "markdown",
      "source": [
        "A continuous random variable is a random variable that is not countable, and is instead represented by a function. The normal probability distribution is the easiest example to work with, as the distribution is centered at the mean and can be used for hypothesis testing and finding outliers easily. It is ideal to work with approximately normally distributed data. This example shows a plot of a density curve for the normal distribution, done by plotting the function for a normal distribution centered at mean 0. A density curve is a probability curve with the area under the curve equaling 1. You can tell if data is approximately normally distributed by seeing if a plot of the outcomes on the x-axis and the amount of each of them present in the data on the y-axis.\n",
        "\n",
        "Hypothesis testing is done with a normal distribution by checking the probability of an event occuring using the area under the density curve within a range of the x-axis event of interest."
      ],
      "metadata": {
        "id": "YZlZ0N2WpBP_"
      }
    },
    {
      "cell_type": "code",
      "source": [
        "# 2.2.4: Continuous Random Variables\n",
        "# Example 1: Normal Distribution\n",
        "\n",
        "x = np.linspace(-10,10,10000)\n",
        "\n",
        "f = lambda x: 1/(2*np.pi)**(1/2)*np.exp(-(x**2)/2)\n",
        "\n",
        "plt.plot(x,f(x))\n",
        "plt.xlabel('Value')\n",
        "plt.ylabel('Probability')\n",
        "plt.title('Normal Distribution')\n",
        "plt.show()\n",
        "\n",
        "print(scipy.integrate.quad(f, -10, 10))"
      ],
      "metadata": {
        "colab": {
          "base_uri": "https://localhost:8080/",
          "height": 489
        },
        "id": "Tg-FXyyrV6Y2",
        "outputId": "ab436852-e928-4541-b69b-64bc046e8b29"
      },
      "execution_count": 73,
      "outputs": [
        {
          "output_type": "display_data",
          "data": {
            "text/plain": [
              "<Figure size 640x480 with 1 Axes>"
            ],
            "image/png": "[encoded data removed]"
          },
          "metadata": {}
        },
        {
          "output_type": "stream",
          "name": "stdout",
          "text": [
            "(1.0, 8.671029987439099e-10)\n"
          ]
        }
      ]
    }
  ]
}