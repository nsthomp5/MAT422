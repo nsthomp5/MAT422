{
  "nbformat": 4,
  "nbformat_minor": 0,
  "metadata": {
    "colab": {
      "provenance": [],
      "authorship_tag": "ABX9TyM6TU7HQ6iEkL/oOj5WSv5L",
      "include_colab_link": true
    },
    "kernelspec": {
      "name": "python3",
      "display_name": "Python 3"
    },
    "language_info": {
      "name": "python"
    }
  },
  "cells": [
    {
      "cell_type": "markdown",
      "metadata": {
        "id": "view-in-github",
        "colab_type": "text"
      },
      "source": [
        "<a href=\"https://colab.research.google.com/github/nsthomp5/MAT422/blob/main/MAT_422_HW_3_5_3_6.ipynb\" target=\"_parent\"><img src=\"https://colab.research.google.com/assets/colab-badge.svg\" alt=\"Open In Colab\"/></a>"
      ]
    },
    {
      "cell_type": "code",
      "execution_count": 55,
      "metadata": {
        "id": "8b9NY2qsu1ae"
      },
      "outputs": [],
      "source": [
        "# Name: Nicholas Thompson\n",
        "# ID: 1223100502\n",
        "# Class: MAT 422\n",
        "# Assignment: HW 3.5, 3.6"
      ]
    },
    {
      "cell_type": "code",
      "source": [
        "import numpy as np # for arrays\n",
        "import sklearn.cluster as sk # for K-Means\n",
        "import matplotlib.pyplot as plt # For plotting\n",
        "from sklearn import svm # For Support Vector Machines\n",
        "import pandas as pd # For Dataframes"
      ],
      "metadata": {
        "id": "iCdnqRBbwy_B"
      },
      "execution_count": 56,
      "outputs": []
    },
    {
      "cell_type": "markdown",
      "source": [
        "K-Means are used for cluster analysis, where data is clustered into a chosen number of clusters, and each data point is in the vicinity of one of them, decided by the distance from the mean of each cluster. It is useful for identifying clusters of data in large datasets, and has applications where cluster analysis can help identify particular subsets of the population for more specific analysis. Identifying clusters in data is possible using the elbow method, where plotting a scatterplot of the data can produce a line through them that has sharp bends due to sudden, large changes in trajectory."
      ],
      "metadata": {
        "id": "__T1-tU02mDO"
      }
    },
    {
      "cell_type": "code",
      "source": [
        "# 3.5 K-Means\n",
        "# Example 1: 2 clusters\n",
        "\n",
        "A = [1, 1, 2, 3, 4, 4, 5, 6, 7, 7, 15, 16, 17, 17, 19, 20, 22] # Clear 2 clusters\n",
        "\n",
        "KModel = sk.KMeans(2) # Chosen 2 clusters\n",
        "KModel.fit(np.array(A).reshape(-1, 1))\n",
        "\n",
        "print(KModel.cluster_centers_)\n",
        "print(KModel.labels_)"
      ],
      "metadata": {
        "colab": {
          "base_uri": "https://localhost:8080/"
        },
        "id": "HI1pGoe5vPon",
        "outputId": "dfe9fede-c431-4a6f-9a71-713277a93f96"
      },
      "execution_count": 57,
      "outputs": [
        {
          "output_type": "stream",
          "name": "stdout",
          "text": [
            "[[18.]\n",
            " [ 4.]]\n",
            "[1 1 1 1 1 1 1 1 1 1 0 0 0 0 0 0 0]\n"
          ]
        }
      ]
    },
    {
      "cell_type": "code",
      "source": [
        "# Example 2: Plotting the Elbow\n",
        "\n",
        "X = np.linspace(0, 24, 24)\n",
        "X = np.array(X).reshape(-1, 1)\n",
        "y = np.array([1, 1, 2, 3, 4, 4, 5, 6, 7, 7, 15, 16, 17, 17, 19, 20, 22, 30, 35, 36, 37, 37, 38, 40])\n",
        "\n",
        "plt.scatter(X, y) # Plot shows 3 clear clusters"
      ],
      "metadata": {
        "colab": {
          "base_uri": "https://localhost:8080/",
          "height": 447
        },
        "id": "LnqhkYHnzRPR",
        "outputId": "4ad69247-999d-40ed-983b-ed07b3501b72"
      },
      "execution_count": 58,
      "outputs": [
        {
          "output_type": "execute_result",
          "data": {
            "text/plain": [
              "<matplotlib.collections.PathCollection at 0x789f35b834c0>"
            ]
          },
          "metadata": {},
          "execution_count": 58
        },
        {
          "output_type": "display_data",
          "data": {
            "text/plain": [
              "<Figure size 640x480 with 1 Axes>"
            ],
            "image/png": "[encoded data removed]"
          },
          "metadata": {}
        }
      ]
    },
    {
      "cell_type": "code",
      "source": [
        "KModel = sk.KMeans(3) # Chosen 3 clusters\n",
        "KModel.fit(y.reshape(-1,1))\n",
        "\n",
        "print(KModel.cluster_centers_)\n",
        "print(KModel.labels_)"
      ],
      "metadata": {
        "colab": {
          "base_uri": "https://localhost:8080/"
        },
        "id": "dY6B5OZbz-4y",
        "outputId": "e0811ff0-dd01-4c5a-d56d-f8e8faf99496"
      },
      "execution_count": 59,
      "outputs": [
        {
          "output_type": "stream",
          "name": "stdout",
          "text": [
            "[[ 4.        ]\n",
            " [36.14285714]\n",
            " [18.        ]]\n",
            "[0 0 0 0 0 0 0 0 0 0 2 2 2 2 2 2 2 1 1 1 1 1 1 1]\n"
          ]
        }
      ]
    },
    {
      "cell_type": "markdown",
      "source": [
        "Support Vector Machines use hyperplanes, finding the best plane to split the data according to clusters of inputs and outputs by maximizing the distance between the groups of points separated by the plane. It is most useful for classification problems, where the hyperplane aids in label prediction, but it can be used in regression as well, although its cost function does not seek extrapolation, so the regression line may only be representative of a subset of the data. The loss function can also be chosen to prioritize distance above completely separating the labels, in the case that label clusters overlap more than is separable."
      ],
      "metadata": {
        "id": "HpKA8Zah3MLD"
      }
    },
    {
      "cell_type": "code",
      "source": [
        "# 3.6 Support Vector Machines\n",
        "# Example 1: Regression\n",
        "\n",
        "X = np.linspace(0, 24, 18)\n",
        "X = np.array(X).reshape(-1, 1)\n",
        "y = [1, 3, 4, 6, 7, 9, 10, 12, 13, 15, 16, 18, 20, 21, 22, 22, 23, 25]\n",
        "\n",
        "regression = svm.SVR()\n",
        "regression.fit(X,y)\n",
        "\n",
        "print(regression.predict([[19]]))\n",
        "\n",
        "plt.scatter(X, y)\n",
        "plt.plot(X, regression.predict(X)) # Regression line shows how only a subset of the data is trained on without regard for extrapolation"
      ],
      "metadata": {
        "colab": {
          "base_uri": "https://localhost:8080/",
          "height": 465
        },
        "id": "G3wQjTzW0Pda",
        "outputId": "02fdf7dc-490f-4fb4-cc98-3fa1b5c605d6"
      },
      "execution_count": 62,
      "outputs": [
        {
          "output_type": "stream",
          "name": "stdout",
          "text": [
            "[19.49041505]\n"
          ]
        },
        {
          "output_type": "execute_result",
          "data": {
            "text/plain": [
              "[<matplotlib.lines.Line2D at 0x789f3694f0d0>]"
            ]
          },
          "metadata": {},
          "execution_count": 62
        },
        {
          "output_type": "display_data",
          "data": {
            "text/plain": [
              "<Figure size 640x480 with 1 Axes>"
            ],
            "image/png": "[encoded data removed]"
          },
          "metadata": {}
        }
      ]
    },
    {
      "cell_type": "code",
      "source": [
        "# Example 2: Classification\n",
        "\n",
        "\n",
        "hd_df = pd.read_csv('framingham.csv') # dataset of heart disease presence over 10 years\n",
        "hd_df.head() # see feature and outcome representation\n",
        "hd_df.dropna(inplace=True) # drop missing values, could create bias in model where people may not prefer to answer certain questions\n",
        "\n",
        "X = hd_df.drop('TenYearCHD', axis=1) # features\n",
        "y = hd_df['TenYearCHD'] # outcomes\n",
        "\n",
        "classification = svm.SVC()\n",
        "classification.fit(X,y)\n",
        "\n",
        "print(classification.predict(X)) # 0 or 1 labels\n",
        "print(classification.score(X,y)) # Accuracy\n"
      ],
      "metadata": {
        "colab": {
          "base_uri": "https://localhost:8080/"
        },
        "id": "2I_6-aJd1YUH",
        "outputId": "3e47dc24-1d3b-42f1-97cb-b6c8f9e8c2f9"
      },
      "execution_count": 61,
      "outputs": [
        {
          "output_type": "stream",
          "name": "stdout",
          "text": [
            "[0 0 0 ... 0 0 0]\n",
            "0.8484682713347921\n"
          ]
        }
      ]
    }
  ]
}