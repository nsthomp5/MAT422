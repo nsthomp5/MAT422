{
  "nbformat": 4,
  "nbformat_minor": 0,
  "metadata": {
    "colab": {
      "provenance": [],
      "authorship_tag": "ABX9TyP7gpuwF4tJ88Fi1gYUn3dT",
      "include_colab_link": true
    },
    "kernelspec": {
      "name": "python3",
      "display_name": "Python 3"
    },
    "language_info": {
      "name": "python"
    }
  },
  "cells": [
    {
      "cell_type": "markdown",
      "metadata": {
        "id": "view-in-github",
        "colab_type": "text"
      },
      "source": [
        "<a href=\"https://colab.research.google.com/github/nsthomp5/MAT422/blob/main/MAT_422_HW_2_4.ipynb\" target=\"_parent\"><img src=\"https://colab.research.google.com/assets/colab-badge.svg\" alt=\"Open In Colab\"/></a>"
      ]
    },
    {
      "cell_type": "code",
      "execution_count": null,
      "metadata": {
        "id": "cg_evdL_sJr9"
      },
      "outputs": [],
      "source": [
        "# Name: Nicholas Thompson\n",
        "# ID: 1223100502\n",
        "# Class: MAT 422\n",
        "# Assignment: HW 2.4"
      ]
    },
    {
      "cell_type": "markdown",
      "source": [
        "Section 2.4.1 discusses Maximum Likelihood Estimation (MLE) for random samples, where the likelihood function is based on probabilities and instances of input variables. A random sample would be pulling input values from a distribution, and the likelihood function would estimate the likelihood of observing an output given different inputs, quantifying how well a statistical model explains the input-output relationship. MLE is used for parameter estimation, finding the parameters that best show the relationship between inputs and outputs."
      ],
      "metadata": {
        "id": "T3EtZ0aHsNSn"
      }
    },
    {
      "cell_type": "code",
      "source": [
        "import numpy as np\n",
        "import matplotlib.pyplot as plt\n",
        "import scipy.stats as stats\n",
        "from scipy.optimize import minimize\n",
        "from sklearn.linear_model import LinearRegression\n",
        "from sklearn.preprocessing import StandardScaler"
      ],
      "metadata": {
        "id": "f5T2S4ZOvkop"
      },
      "execution_count": 11,
      "outputs": []
    },
    {
      "cell_type": "code",
      "source": [
        "# 2.4.1: MLE\n",
        "# Example 1\n",
        "\n",
        "np.random.seed(40) # random seed\n",
        "data = np.random.normal(loc = 0, scale = 2, size = 100) # normal distribution random variable, centered at the mean\n",
        "\n",
        "mean = np.mean(data)\n",
        "std = np.std(data)\n",
        "\n",
        "def log_likelihood(params, data): # log likelihood\n",
        "    mu, sigma = params\n",
        "    likelihood = np.sum(stats.norm.logpdf(data, loc = mu, scale = sigma))\n",
        "    return -likelihood # maximize likelihood: smallest absolute value\n",
        "\n",
        "initial_guess = [mean, std]\n",
        "result = minimize(log_likelihood, initial_guess, args = (data,), method = 'Nelder-Mead') # parameter estimation using minimization\n",
        "mu_mle, sigma_mle = result.x\n",
        "\n",
        "print(\"Maximum Likelihood Estimate (MLE):\")\n",
        "print(\"Mean (mu):\", mu_mle)\n",
        "print(\"Standard Deviation (sigma):\", sigma_mle)"
      ],
      "metadata": {
        "colab": {
          "base_uri": "https://localhost:8080/"
        },
        "id": "-bWyIUp-tj9q",
        "outputId": "59f03ba4-a5ce-4d48-bb26-7aa6eaf84d12"
      },
      "execution_count": 5,
      "outputs": [
        {
          "output_type": "stream",
          "name": "stdout",
          "text": [
            "Maximum Likelihood Estimate (MLE):\n",
            "Mean (mu): -0.04557962873317175\n",
            "Standard Deviation (sigma): 1.9452327740488715\n"
          ]
        }
      ]
    },
    {
      "cell_type": "markdown",
      "source": [
        "Section 2.4.2 discusses Linear Regression, which weights input variables and produces an output using a linear function, where the input variables with the greatest weights are most numerically important. The interpretability comes when all variables are scaled, so that the weights tell you the interpretable importance, but linear regression is most successful when accounting for relationships between variables. Linear Regression can also produce a correlation coefficient using line-of-best-fit, which determines the relationship between two variables. It is also used heavily in machine learning,where machine learning algorithms are used to determine the weights of the input variables."
      ],
      "metadata": {
        "id": "Ph2VTeCuuuta"
      }
    },
    {
      "cell_type": "code",
      "source": [
        "# 2.4.2: Linear Regression\n",
        "# Example 1: Line of Best Fit and Correlation\n",
        "\n",
        "X = [1, 2, 5, 6, 8, 10] # one-variable inputs\n",
        "Y = [.5, 3, 5, 8.8, 15, 18]\n",
        "\n",
        "mean_x = np.mean(X)\n",
        "mean_y = np.mean(Y)\n",
        "\n",
        "slope = np.sum((X - mean_x) * (Y - mean_y)) / np.sum((X - mean_x) ** 2)\n",
        "\n",
        "plt.scatter(X, Y, label = 'Data Points')\n",
        "\n",
        "slope, intercept, r_value, p_value, std_err = stats.linregress(X, Y) # line of best fit, r_value is correlation coefficient\n",
        "\n",
        "plt.plot(X, slope * np.array(X) + intercept, color = 'red', label = 'Line of Best Fit')\n",
        "\n",
        "plt.xlabel('X')\n",
        "plt.ylabel('Y')\n",
        "plt.legend()\n",
        "\n",
        "print(\"Correlation Coefficient (r):\", r_value)\n"
      ],
      "metadata": {
        "colab": {
          "base_uri": "https://localhost:8080/",
          "height": 466
        },
        "id": "PyYtLR1zvEhy",
        "outputId": "97392cd8-cc5d-47cb-afbf-59deaa396206"
      },
      "execution_count": 7,
      "outputs": [
        {
          "output_type": "stream",
          "name": "stdout",
          "text": [
            "Correlation Coefficient (r): 0.974376661402209\n"
          ]
        },
        {
          "output_type": "display_data",
          "data": {
            "text/plain": [
              "<Figure size 640x480 with 1 Axes>"
            ],
            "image/png": "[encoded data removed]"
          },
          "metadata": {}
        }
      ]
    },
    {
      "cell_type": "code",
      "source": [
        "# Example 2: Scikit-Learn\n",
        "\n",
        "X = [[1, 2], [5, 6], [8, 10]] # two-variable inputs\n",
        "Y = [0.5, 3, 5]\n",
        "\n",
        "scaler = StandardScaler()\n",
        "X = scaler.fit_transform(X) # scales inputs so weights are strictly by importance\n",
        "\n",
        "model = LinearRegression() # model object\n",
        "model.fit(X, Y) # fit model to find weights\n",
        "\n",
        "print(\"Model Coefficients:\", model.coef_) # weights\n",
        "print(\"Intercept:\", model.intercept_)\n",
        "\n"
      ],
      "metadata": {
        "colab": {
          "base_uri": "https://localhost:8080/"
        },
        "id": "GsYkBRs0wcMZ",
        "outputId": "1cadc040-ac01-4450-fbcd-42cb506f40c7"
      },
      "execution_count": 12,
      "outputs": [
        {
          "output_type": "stream",
          "name": "stdout",
          "text": [
            "Model Coefficients: [1.43372088 0.40824829]\n",
            "Intercept: 2.8333333333333335\n"
          ]
        }
      ]
    }
  ]
}