{
  "nbformat": 4,
  "nbformat_minor": 0,
  "metadata": {
    "colab": {
      "provenance": [],
      "authorship_tag": "ABX9TyNvBbWhRDbwv4cbjCddIbUX",
      "include_colab_link": true
    },
    "kernelspec": {
      "name": "python3",
      "display_name": "Python 3"
    },
    "language_info": {
      "name": "python"
    }
  },
  "cells": [
    {
      "cell_type": "markdown",
      "metadata": {
        "id": "view-in-github",
        "colab_type": "text"
      },
      "source": [
        "<a href=\"https://colab.research.google.com/github/nsthomp5/MAT422/blob/main/MAT_422_HW_1.ipynb\" target=\"_parent\"><img src=\"https://colab.research.google.com/assets/colab-badge.svg\" alt=\"Open In Colab\"/></a>"
      ]
    },
    {
      "cell_type": "code",
      "source": [
        "# Name: Nicholas Thompson\n",
        "# ID: 1223100502\n",
        "# Class: MAT 422\n",
        "# Assignment: HW 1.2"
      ],
      "metadata": {
        "id": "d4c40MyjwUMp"
      },
      "execution_count": null,
      "outputs": []
    },
    {
      "cell_type": "code",
      "execution_count": null,
      "metadata": {
        "id": "lOS_q9iroAeg"
      },
      "outputs": [],
      "source": [
        "# 1.2.1 Linear spaces\n",
        "# Example 1: R^2\n",
        "\n",
        "import random as rand\n",
        "\n",
        "u = [rand.random(), rand.random()] #random 1x2 vector\n",
        "v = [rand.random(), rand.random()] #random 1x2 vector\n",
        "w = [0,0]\n",
        "\n",
        "cond = 0 # counter for fulfilled conditions"
      ]
    },
    {
      "cell_type": "markdown",
      "source": [
        "1.2.1 Example 1 checks the various conditions for a set to be a vector space. Initializing u and v takes the form of arbitrary vectors in R^2, performing operations on them to check the conditions of a vector space. Each operation checks for the existence of a certain property or element of the set."
      ],
      "metadata": {
        "id": "B54zcjG62bDO"
      }
    },
    {
      "cell_type": "code",
      "source": [
        "count = 0 # counter for number of instances\n",
        "\n",
        "for i in range(len(u)):\n",
        "  w[i] = u[i] + v[i]\n",
        "  if isinstance(w[i], float) == True:\n",
        "    count+=1\n",
        "\n",
        "if count == 2:\n",
        "  print(\"R^2 is contained under vector addition\") # checking if all sums are in R^2\n",
        "  cond +=1\n",
        "else:\n",
        "  print(\"R^2 is not contained under vector addition\")"
      ],
      "metadata": {
        "colab": {
          "base_uri": "https://localhost:8080/"
        },
        "id": "Z-qDJ8zC1URz",
        "outputId": "34607eca-5181-48b8-86cb-cdf1fd9b137e"
      },
      "execution_count": null,
      "outputs": [
        {
          "output_type": "stream",
          "name": "stdout",
          "text": [
            "R^2 is contained under vector addition\n"
          ]
        }
      ]
    },
    {
      "cell_type": "code",
      "source": [
        "\n",
        "c = rand.randrange(0,9999999,1)*rand.random()\n",
        "\n",
        "if isinstance(c*u[0], float) == True and isinstance(c*u[1], float) == True:\n",
        "  print(\"R^2 is contained under scalar multiplication\") # checking if all products are in R^2\n",
        "  cond +=1\n",
        "else:\n",
        "  print(\"R^2 is not contained under scalar multiplication\")"
      ],
      "metadata": {
        "colab": {
          "base_uri": "https://localhost:8080/"
        },
        "id": "4dgiVZqamXXn",
        "outputId": "4148bae1-e21c-431e-ab09-28be8669c28a"
      },
      "execution_count": null,
      "outputs": [
        {
          "output_type": "stream",
          "name": "stdout",
          "text": [
            "R^2 is contained under scalar multiplication\n"
          ]
        }
      ]
    },
    {
      "cell_type": "code",
      "source": [
        "if u[0] + v[0] == v[0] + u[0] and u[1] + v[1] == v[1] + u[1]:\n",
        "  print(\"Vector addition is commutative under R^2\") # checking for commutative property\n",
        "  cond +=1\n",
        "else:\n",
        "  print(\"Vector addition is not commutative under R^2\")"
      ],
      "metadata": {
        "colab": {
          "base_uri": "https://localhost:8080/"
        },
        "id": "9RZKJ362LPPM",
        "outputId": "99480e64-329f-4fc6-e9e7-bf67e564c11a"
      },
      "execution_count": null,
      "outputs": [
        {
          "output_type": "stream",
          "name": "stdout",
          "text": [
            "Vector addition is commutative under R^2\n"
          ]
        }
      ]
    },
    {
      "cell_type": "code",
      "source": [
        "if u[0] - u[0] == 0 and u[1] - u[1] == 0:\n",
        "  print(\"There exists an inverse for every element in R^2\") # checking for existence of inverse\n",
        "  cond +=1\n",
        "else:\n",
        "  print(\"There does not exist an inverse for every element in R^2\")"
      ],
      "metadata": {
        "colab": {
          "base_uri": "https://localhost:8080/"
        },
        "id": "WOdn9j9gTEn0",
        "outputId": "349ec78d-3492-4880-88a2-5c74eace6013"
      },
      "execution_count": null,
      "outputs": [
        {
          "output_type": "stream",
          "name": "stdout",
          "text": [
            "There exists a zero vector in R^2\n"
          ]
        }
      ]
    },
    {
      "cell_type": "code",
      "source": [
        "if u[0] + v[0] + w[0] == u[0] + w[0] + v[0] and u[1] + v[1] + w[1] == u[1] + w[1] + v[1]:\n",
        "  print(\"Vector addition is associative under R^2\") # checking associative property\n",
        "  cond +=1\n",
        "else:\n",
        "  print(\"Vector addition is not associative under R^2\")"
      ],
      "metadata": {
        "colab": {
          "base_uri": "https://localhost:8080/"
        },
        "id": "MlSqqvgYZTl-",
        "outputId": "4735cbe7-9463-4c37-fb42-9043258b8985"
      },
      "execution_count": null,
      "outputs": [
        {
          "output_type": "stream",
          "name": "stdout",
          "text": [
            "Vector addition is not associative under R^2\n"
          ]
        }
      ]
    },
    {
      "cell_type": "code",
      "source": [
        "if 1*u == u:\n",
        "  print(\"The identity vector exists in R^2\") # checking if 1 qualifies as scalar identity\n",
        "  cond +=1\n",
        "else:\n",
        "  print(\"The identity vector does not exist in R^2\")"
      ],
      "metadata": {
        "colab": {
          "base_uri": "https://localhost:8080/"
        },
        "id": "n3R0zvcDZfK5",
        "outputId": "7269ad1b-b8a2-462c-fa84-3e1c8d697565"
      },
      "execution_count": null,
      "outputs": [
        {
          "output_type": "stream",
          "name": "stdout",
          "text": [
            "The identity vector exists in R^2\n"
          ]
        }
      ]
    },
    {
      "cell_type": "code",
      "source": [
        "if u[0] + 0 == 0 and u[1] + 0 == 0:\n",
        "  print(\"The zero vector exists in R^2\") # checking if [0,0] qualifies as zero vector\n",
        "  cond +=1\n",
        "else:\n",
        "  print(\"The zero vector does not exist in R^2\")"
      ],
      "metadata": {
        "id": "6DYqwqR20UNr"
      },
      "execution_count": null,
      "outputs": []
    },
    {
      "cell_type": "code",
      "source": [
        "y = [0,0]\n",
        "z = [0,0]\n",
        "\n",
        "for i in range(len(u)): # checking distributive property for vector addition\n",
        "  y[i] = c*(u[i]+v[i])\n",
        "  z[i] = c*u[i]+c*v[i]\n",
        "\n",
        "if y == z:\n",
        "  print(\"Scalar multiplication is distributive with respect to vector addition under R^2\")\n",
        "  cond +=1\n",
        "else:\n",
        "  print(\"Scalar multiplication is not distributive with respect to vector addition under R^2\")"
      ],
      "metadata": {
        "colab": {
          "base_uri": "https://localhost:8080/"
        },
        "id": "9VSq0xP_Zl7c",
        "outputId": "159d7ef9-4c70-46e4-e9de-2d5959ba3f4c"
      },
      "execution_count": null,
      "outputs": [
        {
          "output_type": "stream",
          "name": "stdout",
          "text": [
            "Scalar multiplication is distributive with respect to vector addition under R^2\n"
          ]
        }
      ]
    },
    {
      "cell_type": "code",
      "source": [
        "d = rand.randrange(0,9999999,1)\n",
        "\n",
        "y = [0,0]\n",
        "z = [0,0]\n",
        "\n",
        "for i in range(len(u)): # checking distributive property for scalar addition\n",
        "  y[i] = (c+d)*u[i]\n",
        "  z[i] = c*u[i]+d*u[i]\n",
        "\n",
        "if y == z:\n",
        "  print(\"Scalar multiplication is distributive with respect to field addition under R^2\")\n",
        "  cond +=1\n",
        "else:\n",
        "  print(\"Scalar multiplication is not distributive with respect to field addition under R^2\")"
      ],
      "metadata": {
        "colab": {
          "base_uri": "https://localhost:8080/"
        },
        "id": "xEnTXNBkbW0I",
        "outputId": "8081ceb6-ccb3-436b-b281-c8ae2f4bfbe7"
      },
      "execution_count": null,
      "outputs": [
        {
          "output_type": "stream",
          "name": "stdout",
          "text": [
            "Scalar multiplication is distributive with respect to field addition under R^2\n"
          ]
        }
      ]
    },
    {
      "cell_type": "code",
      "source": [
        "if cond == 8: # if every condition is fulfilled, R^2 is a vector space\n",
        "  print(\"R^2 is a linear space\")\n",
        "else:\n",
        "  print(\"R^2 is not a linear space\")"
      ],
      "metadata": {
        "colab": {
          "base_uri": "https://localhost:8080/"
        },
        "id": "iDsYkcqZeJBy",
        "outputId": "ab30135a-6afc-466c-aff7-9f0520028314"
      },
      "execution_count": null,
      "outputs": [
        {
          "output_type": "stream",
          "name": "stdout",
          "text": [
            "R^2 is a linear space\n"
          ]
        }
      ]
    },
    {
      "cell_type": "code",
      "source": [
        "# 1.2.2 Orthogonality\n",
        "# Example 1\n",
        "\n",
        "import numpy as np\n",
        "\n",
        "def orthogonal_check(u,v): # function for orthogonality and orthonormality conditions\n",
        "  if np.dot(u,v) == 0 and np.dot(u,u) == 1 and np.dot(v,v) == 1:\n",
        "    return \"u and v are orthonormal\"\n",
        "  if np.dot(u,v) == 0:\n",
        "    return \"u and v are orthogonal, but not orthonormal\"\n",
        "  else:\n",
        "    return \"u and v are not orthogonal\"\n",
        "\n"
      ],
      "metadata": {
        "id": "YoNMlVnEd8bh"
      },
      "execution_count": 38,
      "outputs": []
    },
    {
      "cell_type": "markdown",
      "source": [
        "1.2.2 Example 1 checks if two vectors are orthogonal, which means they create a 90 degree angle between them. The condition of the dot product equaling zero is illustrated by orthogonality being decided by direction only, so scaling one of the vectors (multiplying by a scalar) will not change the dot product from zero, nor will it change its direction."
      ],
      "metadata": {
        "id": "wkTwPjyE21Y2"
      }
    },
    {
      "cell_type": "code",
      "source": [
        "u = [1/2,1/4]\n",
        "v = [1/2,-1/4]\n",
        "\n",
        "orthogonal_check(u,v)"
      ],
      "metadata": {
        "colab": {
          "base_uri": "https://localhost:8080/",
          "height": 36
        },
        "id": "J-STIAQSjwwc",
        "outputId": "2a9a2286-c9ae-47a0-b378-dd2bc6519370"
      },
      "execution_count": null,
      "outputs": [
        {
          "output_type": "execute_result",
          "data": {
            "text/plain": [
              "'u and v are not orthonormal'"
            ],
            "application/vnd.google.colaboratory.intrinsic+json": {
              "type": "string"
            }
          },
          "metadata": {},
          "execution_count": 13
        }
      ]
    },
    {
      "cell_type": "code",
      "source": [
        "u = [1/np.sqrt(2),1/np.sqrt(2)]\n",
        "v = [-1/np.sqrt(2),1/np.sqrt(2)]\n",
        "\n",
        "orthogonal_check(u,v)"
      ],
      "metadata": {
        "colab": {
          "base_uri": "https://localhost:8080/",
          "height": 36
        },
        "id": "9Fqi3YRekBBf",
        "outputId": "ce24aa1b-55c4-4b13-dd49-572baa844c2a"
      },
      "execution_count": null,
      "outputs": [
        {
          "output_type": "execute_result",
          "data": {
            "text/plain": [
              "'u and v are orthogonal, but not orthonormal'"
            ],
            "application/vnd.google.colaboratory.intrinsic+json": {
              "type": "string"
            }
          },
          "metadata": {},
          "execution_count": 14
        }
      ]
    },
    {
      "cell_type": "code",
      "source": [
        "#1.2.3 Gram-Schmidt Process\n",
        "#Example 1: Projection Vector\n",
        "\n",
        "\n",
        "def proj_vec(u,v): # function for producing projection of one vector onto another\n",
        "  for i in range(len(u)):\n",
        "    u[i] = (np.dot(u,v)/np.dot(u,u))*u[i]\n",
        "  return u\n",
        "\n",
        "proj_vec([1,1],[1,2])\n",
        "\n"
      ],
      "metadata": {
        "colab": {
          "base_uri": "https://localhost:8080/"
        },
        "id": "LcyXDKKIZ9SW",
        "outputId": "1721feec-b7b4-4c8f-e084-0d3ee2e43413"
      },
      "execution_count": null,
      "outputs": [
        {
          "output_type": "execute_result",
          "data": {
            "text/plain": [
              "[1.5, 1.0769230769230769]"
            ]
          },
          "metadata": {},
          "execution_count": 15
        }
      ]
    },
    {
      "cell_type": "markdown",
      "source": [
        "1.2.3 Example 1 returns the projection of vector u onto vector v. This constitutes the length of the \"shadow\" of u casted onto v. It is illustrated in the formula through the v part of the dot product in the numerator and the dot product of u and u in the denominator causing u to be scaled down to v. The dot product is required for this scalar operation."
      ],
      "metadata": {
        "id": "roH0jtHp3Xuk"
      }
    },
    {
      "cell_type": "code",
      "source": [
        "#Example 2: Euclidean Space\n",
        "\n",
        "def gram_schmidt(u,v): # function for gram-schmidt process\n",
        "  for i in range(len(u)):\n",
        "    v[i] = v[i] - proj_vec(u,v)[i]\n",
        "  return v\n",
        "\n",
        "gram_schmidt([1,1],[1,2])\n",
        "#"
      ],
      "metadata": {
        "colab": {
          "base_uri": "https://localhost:8080/"
        },
        "id": "PbMdmqrNuLa8",
        "outputId": "edc692e5-62c6-47e3-da51-d16db5122485"
      },
      "execution_count": null,
      "outputs": [
        {
          "output_type": "execute_result",
          "data": {
            "text/plain": [
              "[-0.5, 0.7107159509457697]"
            ]
          },
          "metadata": {},
          "execution_count": 16
        }
      ]
    },
    {
      "cell_type": "markdown",
      "source": [
        "1.2.3 Example 2 returns the an orthogonal vector to u. If a vector v were orthogonal to u, there would be no part of v sitting beneath u to \"cast a shadow\" on, so subtracting the part of u projected onto v produces v as orthogonal to u."
      ],
      "metadata": {
        "id": "83B_Hyr340Ol"
      }
    },
    {
      "cell_type": "code",
      "source": [
        "#1.2.4 Eigenvalues and Eigenvectors\n",
        "# Example 1: Eigenvalues and Eigenvectors\n",
        "\n",
        "A = [[1,2],[3,4]]\n",
        "np.linalg.eig(A) # linalg package accesses eigenvalues and eigenvectors\n"
      ],
      "metadata": {
        "colab": {
          "base_uri": "https://localhost:8080/"
        },
        "id": "zkqsoPNNyU0e",
        "outputId": "9129e1a4-13f6-4e0e-b519-a898d793e683"
      },
      "execution_count": null,
      "outputs": [
        {
          "output_type": "execute_result",
          "data": {
            "text/plain": [
              "EigResult(eigenvalues=array([-0.37228132,  5.37228132]), eigenvectors=array([[-0.82456484, -0.41597356],\n",
              "       [ 0.56576746, -0.90937671]]))"
            ]
          },
          "metadata": {},
          "execution_count": 17
        }
      ]
    },
    {
      "cell_type": "markdown",
      "source": [
        "1.2.4 Example 1 returns the eigenvalues and eigenvectors for Matrix A, found by subtracting the diagonal entries of A by a variable lambda and solving for lambda when the determinant of A equals zero. The eigenvectors correspond to each eigenvalue of A, found by the nullspace of A-lambda*I."
      ],
      "metadata": {
        "id": "fujGMtkx6A0l"
      }
    },
    {
      "cell_type": "markdown",
      "source": [],
      "metadata": {
        "id": "RETvZWMt4x9X"
      }
    },
    {
      "cell_type": "code",
      "source": [
        "#Example 2: Algebraic Multiplicity\n",
        "\n",
        "A = [[1,0],[0,1]]\n",
        "np.linalg.eig(A)"
      ],
      "metadata": {
        "colab": {
          "base_uri": "https://localhost:8080/"
        },
        "id": "x-o0Og4xo0vy",
        "outputId": "ed6c82b3-62bd-44d1-ab5a-21b41793489d"
      },
      "execution_count": null,
      "outputs": [
        {
          "output_type": "execute_result",
          "data": {
            "text/plain": [
              "EigResult(eigenvalues=array([1., 1.]), eigenvectors=array([[1., 0.],\n",
              "       [0., 1.]]))"
            ]
          },
          "metadata": {},
          "execution_count": 22
        }
      ]
    },
    {
      "cell_type": "markdown",
      "source": [
        "The algebraic multiplicity of an eigenvalue is how many times it appears as a root when solving for it when det(A)=0."
      ],
      "metadata": {
        "id": "j-5zAJon6b7s"
      }
    },
    {
      "cell_type": "code",
      "source": [
        "count = 0\n",
        "\n",
        "for i in range (len(np.linalg.eig(A))):\n",
        "  if np.linalg.eig(A)[0][0] == np.linalg.eig(A)[0][i]: #checking roots of characteristic polynomial\n",
        "    count+=1\n",
        "\n",
        "print(\"The algebraic multiplicity of the first eigenvalue is \" ,count)"
      ],
      "metadata": {
        "colab": {
          "base_uri": "https://localhost:8080/"
        },
        "id": "hQbZPDiVpLyn",
        "outputId": "658ef106-2986-4cfa-b86e-87342a95e2e8"
      },
      "execution_count": null,
      "outputs": [
        {
          "output_type": "stream",
          "name": "stdout",
          "text": [
            "The algebraic multiplicity of the first eigenvalue is  2\n"
          ]
        }
      ]
    },
    {
      "cell_type": "code",
      "source": [
        "#Example 3: Geometric Multiplicity\n",
        "\n",
        "from scipy import linalg\n",
        "\n",
        "nullity = len(linalg.null_space(np.array(A))) #checking dimension of nullspace\n",
        "\n",
        "geo_mul = nullity\n",
        "\n",
        "geo_mul"
      ],
      "metadata": {
        "colab": {
          "base_uri": "https://localhost:8080/"
        },
        "id": "knCX9bQZrhHf",
        "outputId": "2c944091-0e8d-46fe-91a2-d1c8528687fb"
      },
      "execution_count": null,
      "outputs": [
        {
          "output_type": "execute_result",
          "data": {
            "text/plain": [
              "2"
            ]
          },
          "metadata": {},
          "execution_count": 34
        }
      ]
    },
    {
      "cell_type": "markdown",
      "source": [
        "The geometric multiplicity of an eigenvalue lambda is the dimension of the nullspace of A-lambda*I, as in checking how many eigenvectors exist."
      ],
      "metadata": {
        "id": "af4uMVPU6m45"
      }
    },
    {
      "cell_type": "code",
      "source": [
        "#Example 4: Trace\n",
        "\n",
        "np.trace(A)"
      ],
      "metadata": {
        "colab": {
          "base_uri": "https://localhost:8080/"
        },
        "id": "griIj5yQvAok",
        "outputId": "dbe92108-32e3-4468-883c-f6d3a773eada"
      },
      "execution_count": null,
      "outputs": [
        {
          "output_type": "execute_result",
          "data": {
            "text/plain": [
              "2"
            ]
          },
          "metadata": {},
          "execution_count": 35
        }
      ]
    },
    {
      "cell_type": "code",
      "source": [
        "np.sum(np.linalg.eig(A)[0]) #verifying sum of eigenvalues equals trace"
      ],
      "metadata": {
        "colab": {
          "base_uri": "https://localhost:8080/"
        },
        "id": "-rYRWSORvHWj",
        "outputId": "cc51c9ac-5d23-4c4c-9927-e55e9d9f8816"
      },
      "execution_count": null,
      "outputs": [
        {
          "output_type": "execute_result",
          "data": {
            "text/plain": [
              "2.0"
            ]
          },
          "metadata": {},
          "execution_count": 37
        }
      ]
    },
    {
      "cell_type": "markdown",
      "source": [
        "Since the eigenvalues of A are found as roots subtracted from the diagonal entries of A when det(A)=0, it makes sense that the sum of the eigenvalues would equal the sum of the diagonal entries of A."
      ],
      "metadata": {
        "id": "ZIa2bvmC65mX"
      }
    }
  ]
}